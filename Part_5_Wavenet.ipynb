{
 "cells": [
  {
   "cell_type": "markdown",
   "id": "18294ff6",
   "metadata": {},
   "source": [
    "This notebook deviates slightly in how the class structure is built. This is done to aid clarity of NN architecture. In partucular insted of one class FlattenConsecutive, 3 are introduced -- RegroupInput, RegroupHidden and FlattenConsecutive."
   ]
  },
  {
   "cell_type": "code",
   "execution_count": 3,
   "id": "e50a8c8f",
   "metadata": {},
   "outputs": [],
   "source": [
    "import torch\n",
    "import torch.nn.functional as F\n",
    "import matplotlib.pyplot as plt\n",
    "import numpy as np\n",
    "import random"
   ]
  },
  {
   "cell_type": "markdown",
   "id": "60fedf32",
   "metadata": {},
   "source": [
    "# Table of Contents\n",
    "- **[Constants](#1)**\n",
    "- **[Data prep](#2)**\n",
    "- **[Main training funcs](#3)**\n",
    "- **[Baseline training](#4)**\n",
    "- **[Adjusting NN architecture](#5)**\n",
    "    - [Result of context legth increase](#5-1)\n",
    "    - [Toy example of matr multiplication with increased context length](#5-2)\n",
    "    - [Fusing each 2 consecutive elements](#5-3)\n",
    "    - [New Layer RegroupInput](#5-4)\n",
    "    - [New Layer FlattenConsecutive](#5-5)\n",
    "    - [Correction of BatchNorm](#5-6)\n",
    "    - [New layer RegroupHidden, final arch](#5-7)\n",
    "- **[Final training and demo](#6)**"
   ]
  },
  {
   "cell_type": "markdown",
   "id": "d7f6a2f4",
   "metadata": {},
   "source": [
    "<a name='1'></a>\n",
    "# Constants"
   ]
  },
  {
   "cell_type": "code",
   "execution_count": 266,
   "id": "b7a98b21",
   "metadata": {},
   "outputs": [],
   "source": [
    "BLOCK_SIZE = 8\n",
    "GROUP_SIZE = 2\n",
    "HIDDEN_LAYER_SIZE = 200\n",
    "EMBEDDING_SIZE = 10 \n",
    "BATCH_SIZE = 32"
   ]
  },
  {
   "cell_type": "markdown",
   "id": "912212d7",
   "metadata": {},
   "source": [
    "<a name='2'></a>\n",
    "# Data prep"
   ]
  },
  {
   "cell_type": "code",
   "execution_count": 5,
   "id": "519a5ccf",
   "metadata": {},
   "outputs": [
    {
     "data": {
      "text/plain": [
       "['emma', 'olivia', 'ava', 'isabella', 'sophia', 'charlotte', 'mia', 'amelia']"
      ]
     },
     "execution_count": 5,
     "metadata": {},
     "output_type": "execute_result"
    }
   ],
   "source": [
    "words = open('names.txt', 'r').read().splitlines()\n",
    "words[:8]"
   ]
  },
  {
   "cell_type": "code",
   "execution_count": 6,
   "id": "3a95665d",
   "metadata": {},
   "outputs": [],
   "source": [
    "chars = sorted(list(set(''.join(words))))\n",
    "chars = ['.'] + chars\n",
    "stoi = {s:i for i,s in enumerate(chars)}\n",
    "itos = {i:s for s,i in stoi.items()}"
   ]
  },
  {
   "cell_type": "code",
   "execution_count": 7,
   "id": "ee4cdc67",
   "metadata": {},
   "outputs": [],
   "source": [
    "# build the dataset\n",
    "\n",
    "def build_dataset(words, block_size=BLOCK_SIZE, verbose=False):\n",
    "     # context length: how many charachters do we \n",
    "    X, Y = [], []\n",
    "    for w in words:\n",
    "\n",
    "        if verbose: print(w)\n",
    "        context = [0] * block_size\n",
    "        for ch in w + '.':\n",
    "            ix = stoi[ch]\n",
    "            X.append(context)\n",
    "            Y.append(ix)\n",
    "\n",
    "            if verbose: print(''.join(itos[i] for i in context), '------>', itos[ix])\n",
    "            context = context[1:] + [ix] # crop and append\n",
    "\n",
    "    X = torch.tensor(X)\n",
    "    Y = torch.tensor(Y)\n",
    "    \n",
    "    return {'X': X, 'Y': Y}\n",
    "\n",
    "train_percent = 0.8\n",
    "train_start_ix, train_end_ix = 0, int(train_percent * (len(words)))\n",
    "eval_start_ix, eval_end_ix = train_end_ix+1, train_end_ix + int((len(words) - train_end_ix)/2)\n",
    "test_start_ix, test_end_ix = eval_end_ix+1, len(words)-1\n",
    "# eval_percent, test_percent = 1-train_percent/2,  1-train_percent/2; \n",
    "\n",
    "random.shuffle(words)\n",
    "train_ds_dict = build_dataset(words=words[train_start_ix:train_end_ix], verbose=False)\n",
    "train_X = train_ds_dict['X']; train_Y = train_ds_dict['Y']\n",
    "\n",
    "eval_ds_dict = build_dataset(words=words[eval_start_ix:eval_end_ix], verbose=False)\n",
    "eval_X = eval_ds_dict['X']; eval_Y = eval_ds_dict['Y']\n",
    "\n",
    "test_ds_dict = build_dataset(words=words[test_start_ix:test_end_ix], verbose=False)\n",
    "test_X = test_ds_dict['X']; test_Y = test_ds_dict['Y']"
   ]
  },
  {
   "cell_type": "markdown",
   "id": "17669bfc",
   "metadata": {},
   "source": [
    "<a name='3'></a>\n",
    "# Main training funcs"
   ]
  },
  {
   "cell_type": "code",
   "execution_count": 404,
   "id": "a656a5ec",
   "metadata": {},
   "outputs": [],
   "source": [
    "class Linear:\n",
    "    \n",
    "    def __init__(self, fan_in, fan_out, bias=True):\n",
    "        self.weight = torch.randn((fan_in, fan_out))/fan_in**0.5\n",
    "        self.bias = torch.zeros(fan_out) if bias else None\n",
    "    \n",
    "    def __call__(self, x):\n",
    "        self.out = x @ self.weight\n",
    "        if self.bias is not None:\n",
    "            self.out += self.bias\n",
    "        return self.out\n",
    "    def parameters(self):\n",
    "        return [self.weight] + ([] if self.bias is None else [self.bias])\n",
    "\n",
    "class BatchNorm1d:\n",
    "  \n",
    "    def __init__(self, dim, eps=1e-5, momentum=0.1):\n",
    "        self.eps = eps\n",
    "        self.momentum = momentum\n",
    "        self.training = True\n",
    "    \n",
    "        # parameters (trained with backprop)\n",
    "        self.gamma = torch.ones(dim)\n",
    "        self.beta = torch.zeros(dim)\n",
    "\n",
    "        # buffers (trained with a running 'momentum update')\n",
    "        self.running_mean = torch.zeros(dim)\n",
    "        self.running_var = torch.ones(dim)\n",
    "  \n",
    "    def __call__(self, x):\n",
    "        # calculate the forward pass\n",
    "        if self.training:\n",
    "            xmean = x.mean((0, 1), keepdim=True) # batch mean\n",
    "            xvar = x.var((0, 1), keepdim=True) # batch variance\n",
    "        else:\n",
    "            xmean = self.running_mean\n",
    "            xvar = self.running_var\n",
    "        xhat = (x - xmean) / torch.sqrt(xvar + self.eps) # normalize to unit variance\n",
    "        self.out = self.gamma * xhat + self.beta\n",
    "\n",
    "        # update the buffers\n",
    "        if self.training:\n",
    "            with torch.no_grad():\n",
    "                self.running_mean = (1 - self.momentum) * self.running_mean + self.momentum * xmean\n",
    "                self.running_var = (1 - self.momentum) * self.running_var + self.momentum * xvar\n",
    "        return self.out\n",
    "  \n",
    "    def parameters(self):\n",
    "        return [self.gamma, self.beta]\n",
    "\n",
    "class Tanh:\n",
    "    def __call__(self, x):\n",
    "        self.out = torch.tanh(x)\n",
    "        return self.out\n",
    "    def parameters(self):\n",
    "        return []\n",
    "\n",
    "class RegroupInput:\n",
    "    \n",
    "    def __init__(self, group_size):\n",
    "        self.group_size = group_size\n",
    "    \n",
    "    def __call__(self, x):\n",
    "        A, B = x.shape\n",
    "        self.out = x.view(A, B//self.group_size, self.group_size)\n",
    "        return self.out\n",
    "\n",
    "    def parameters(self):\n",
    "        return []\n",
    "\n",
    "class RegroupHidden:\n",
    "    \n",
    "    def __init__(self, group_size):\n",
    "        self.group_size = group_size\n",
    "    \n",
    "    def __call__(self, x):\n",
    "        n, B, C = x.shape\n",
    "        self.out = x.view(n, B//self.group_size, C*self.group_size)\n",
    "        if self.out.shape[1] <= 1:\n",
    "            self.out = self.out.squeeze(1)\n",
    "        return self.out\n",
    "\n",
    "    def parameters(self):\n",
    "        return []\n",
    "\n",
    "class Embedding:\n",
    "  \n",
    "    def __init__(self, num_embeddings, embedding_dim):\n",
    "        self.weight = torch.randn((num_embeddings, embedding_dim))\n",
    "\n",
    "    def __call__(self, IX):\n",
    "        self.out = self.weight[IX]\n",
    "        return self.out\n",
    "\n",
    "    def parameters(self):\n",
    "        return [self.weight]\n",
    "    \n",
    "class Flatten:\n",
    "\n",
    "    def __call__(self, x):\n",
    "        self.out = x.view(x.shape[0], -1)\n",
    "        return self.out\n",
    "\n",
    "    def parameters(self):\n",
    "        return []\n",
    "\n",
    "class FlattenLastDims:\n",
    "  \n",
    "    def __init__(self, group_s):\n",
    "#         self.emb_s = emb_s\n",
    "        self.group_s = group_s\n",
    "\n",
    "    def __call__(self, x):\n",
    "        # number of examples; Block size// Group size; Embedding size*group size = A; B; D*C\n",
    "        x_shape = x.shape #A, B, C, D\n",
    "        A, B, C, D = x_shape\n",
    "        self.out = x.view(A, B, D*C)\n",
    "        return self.out\n",
    "\n",
    "    def parameters(self):\n",
    "        return []\n",
    "\n",
    "class Sequential:\n",
    "  \n",
    "    def __init__(self, layers):\n",
    "        self.layers = layers\n",
    "  \n",
    "    def __call__(self, x):\n",
    "        for layer in self.layers:\n",
    "            x = layer(x)\n",
    "        self.out = x\n",
    "        return self.out\n",
    "  \n",
    "    def parameters(self):\n",
    "        # get parameters of all layers and stretch them out into one list\n",
    "        return [p for layer in self.layers for p in layer.parameters()]"
   ]
  },
  {
   "cell_type": "code",
   "execution_count": 371,
   "id": "d9d08deb",
   "metadata": {},
   "outputs": [],
   "source": [
    "def forward_pass(X, layers):\n",
    "#     emb = C[X] # embed the characters into vectors\n",
    "#     x = emb.view(emb.shape[0], -1) # concatenate the vectors\n",
    "    for layer in layers:\n",
    "        X = layer(X)\n",
    "    return X\n",
    "\n",
    "def back_pass(parameters, nll_loss, lr=.1):\n",
    "#     for layer in layers:\n",
    "#         layer.out.retain_grad()\n",
    "    \n",
    "    for p in parameters:\n",
    "        p.grad = None\n",
    "    nll_loss.backward()\n",
    "  \n",
    "    # update\n",
    "    for p in parameters:\n",
    "        p.data += -lr * p.grad\n",
    "    \n",
    "    return parameters \n",
    "\n",
    "@torch.no_grad()\n",
    "def eval_model(model, train_X, train_Y, eval_X, eval_Y, test_X, test_Y):\n",
    "    \n",
    "    # evaluating on the whole training dataset\n",
    "    logits = model(train_X)\n",
    "    nll_loss_train = F.cross_entropy(logits, train_Y)\n",
    "    \n",
    "    # evaluating on the eval dataset\n",
    "    logits = model(eval_X)\n",
    "    nll_loss_eval = F.cross_entropy(logits, eval_Y)\n",
    "    \n",
    "    # evaluating on the test dataset\n",
    "    logits = model(test_X)\n",
    "    nll_loss_test = F.cross_entropy(logits, test_Y)\n",
    "    \n",
    "    return {'train': nll_loss_train.item(), 'eval': nll_loss_eval.item(), 'test': nll_loss_test.item()}\n",
    "\n",
    "def generate_name_nn(num_names, layers):\n",
    "    '''\n",
    "    Here we start with first row because it contains first letters of names, \n",
    "    sample a letter (or collumn), \n",
    "    this letter gives us the number or a row to sample next from.\n",
    "    This is repeated until the end token is sampled.\n",
    "    '''\n",
    "    \n",
    "    out = []\n",
    "    for cnt in range(num_names):\n",
    "        this_name = []\n",
    "        context = [0]*BLOCK_SIZE\n",
    "        for _ in range(50):\n",
    "            \n",
    "            #forward pass\n",
    "#             print(torch.tensor(context))\n",
    "            in_tmp = torch.unsqueeze(torch.tensor(context), 0)\n",
    "            logits = model(in_tmp)\n",
    "            probs = F.softmax(logits, dim=1)\n",
    "            \n",
    "            #sampling\n",
    "            ix = torch.multinomial(probs, num_samples=1, replacement=True).item()\n",
    "            context = context[1:] + [ix]\n",
    "            this_name.append(itos[ix])\n",
    "            \n",
    "            if ix == 0:\n",
    "                 break\n",
    "        out.append(''.join(this_name)[:-1])\n",
    "    return out"
   ]
  },
  {
   "cell_type": "markdown",
   "id": "c4b1a7b5",
   "metadata": {},
   "source": [
    "<a name='4'></a>\n",
    "# Baseline training"
   ]
  },
  {
   "cell_type": "code",
   "execution_count": 10,
   "id": "fbc6b121",
   "metadata": {},
   "outputs": [],
   "source": [
    "torch.manual_seed(42);"
   ]
  },
  {
   "cell_type": "code",
   "execution_count": 11,
   "id": "fa8fb99a",
   "metadata": {},
   "outputs": [
    {
     "name": "stdout",
     "output_type": "stream",
     "text": [
      "12070\n"
     ]
    }
   ],
   "source": [
    "layers = [\n",
    "    Embedding(len(chars), EMBEDDING_SIZE),\n",
    "    Flatten(),\n",
    "    Linear(EMBEDDING_SIZE * BLOCK_SIZE, HIDDEN_LAYER_SIZE, bias=False), BatchNorm1d(HIDDEN_LAYER_SIZE), Tanh(),\n",
    "    Linear(          HIDDEN_LAYER_SIZE,        len(chars), bias=False)\n",
    "]\n",
    "\n",
    "model = Sequential(layers)\n",
    "\n",
    "with torch.no_grad():\n",
    "    layers[-1].weight *= 0.1 # last layer: make less confident\n",
    "\n",
    "parameters = model.parameters()\n",
    "print(sum(p.nelement() for p in parameters)) # number of parameters in total\n",
    "for p in parameters:\n",
    "    p.requires_grad = True"
   ]
  },
  {
   "cell_type": "code",
   "execution_count": 118,
   "id": "c6be994c",
   "metadata": {},
   "outputs": [
    {
     "data": {
      "text/plain": [
       "torch.Size([4, 8, 10])"
      ]
     },
     "execution_count": 118,
     "metadata": {},
     "output_type": "execute_result"
    }
   ],
   "source": [
    "Embedding(len(chars), EMBEDDING_SIZE)(Xb).shape"
   ]
  },
  {
   "cell_type": "code",
   "execution_count": 133,
   "id": "dadd114c",
   "metadata": {
    "scrolled": true
   },
   "outputs": [
    {
     "name": "stdout",
     "output_type": "stream",
     "text": [
      "      0/ 200000: 3.3123\n",
      "  10000/ 200000: 2.3394\n",
      "  20000/ 200000: 2.2165\n",
      "  30000/ 200000: 1.9454\n",
      "  40000/ 200000: 1.8885\n",
      "  50000/ 200000: 2.3406\n",
      "  60000/ 200000: 2.3610\n",
      "  70000/ 200000: 2.0238\n",
      "  80000/ 200000: 2.6097\n",
      "  90000/ 200000: 1.9053\n",
      " 100000/ 200000: 2.0646\n",
      " 110000/ 200000: 2.1519\n",
      " 120000/ 200000: 2.1795\n",
      " 130000/ 200000: 2.0472\n",
      " 140000/ 200000: 2.5666\n",
      " 150000/ 200000: 2.3182\n",
      " 160000/ 200000: 2.1262\n",
      " 170000/ 200000: 2.0645\n",
      " 180000/ 200000: 2.2795\n",
      " 190000/ 200000: 1.8285\n"
     ]
    }
   ],
   "source": [
    "max_steps = 200000\n",
    "batch_size = BATCH_SIZE\n",
    "lossi = []\n",
    "ud = []\n",
    "\n",
    "for i in range(max_steps):\n",
    "  \n",
    "    # minibatch construct\n",
    "    ix = torch.randint(0, train_X.shape[0], (batch_size,))\n",
    "    Xb, Yb = train_X[ix], train_Y[ix] # batch X,Y\n",
    "\n",
    "    # forward pass\n",
    "#     logits = forward_pass(Xb, layers)\n",
    "    logits = model(Xb)\n",
    "    nll_loss = F.cross_entropy(logits, Yb) # loss function\n",
    "\n",
    "    # backward pass\n",
    "    lr = .1 if i<=1e5 else 0.01\n",
    "    parameters = back_pass(parameters, nll_loss, lr=lr)\n",
    "    \n",
    "#     # track stats\n",
    "    if i % 10000 == 0: # print every once in a while\n",
    "        print(f'{i:7d}/{max_steps:7d}: {nll_loss.item():.4f}')\n",
    "    lossi.append(nll_loss.log10().item())\n",
    "    with torch.no_grad():\n",
    "        ud.append([((lr*p.grad).std() / p.data.std()).log10().item() for p in parameters])\n",
    "\n",
    "#     if i >= 5000:\n",
    "#         break # AFTER_DEBUG: would take out obviously to run full optimization"
   ]
  },
  {
   "cell_type": "code",
   "execution_count": 134,
   "id": "7253bf6e",
   "metadata": {},
   "outputs": [
    {
     "data": {
      "text/plain": [
       "{'train': 2.0642905235290527,\n",
       " 'eval': 2.1047487258911133,\n",
       " 'test': 2.1168038845062256}"
      ]
     },
     "execution_count": 134,
     "metadata": {},
     "output_type": "execute_result"
    }
   ],
   "source": [
    "eval_model(model, train_X, train_Y, eval_X, eval_Y, test_X, test_Y)"
   ]
  },
  {
   "cell_type": "code",
   "execution_count": 135,
   "id": "98f87a51",
   "metadata": {},
   "outputs": [
    {
     "data": {
      "text/plain": [
       "[<matplotlib.lines.Line2D at 0x163f44df0>]"
      ]
     },
     "execution_count": 135,
     "metadata": {},
     "output_type": "execute_result"
    },
    {
     "data": {
      "image/png": "[encoded data removed]",
      "text/plain": [
       "<Figure size 640x480 with 1 Axes>"
      ]
     },
     "metadata": {},
     "output_type": "display_data"
    }
   ],
   "source": [
    "\"\"\"\n",
    "The step change is reduction of the learning rate\n",
    "\"\"\"\n",
    "plt.plot(torch.tensor(lossi).view((-1, 1000)).mean(1))"
   ]
  },
  {
   "cell_type": "code",
   "execution_count": 136,
   "id": "35acbc88",
   "metadata": {},
   "outputs": [],
   "source": [
    "for layer in model.layers:\n",
    "    if isinstance(layer, BatchNorm1d):\n",
    "        layer.training = False\n",
    "\n",
    "generate_name_nn(30, layers)"
   ]
  },
  {
   "cell_type": "markdown",
   "id": "8ddcff1c",
   "metadata": {},
   "source": [
    "<a name='5'></a>\n",
    "# Adjusting NN architecture"
   ]
  },
  {
   "cell_type": "markdown",
   "id": "46e6ebd8",
   "metadata": {},
   "source": [
    "<a name='5-1'></a>\n",
    "## Result of context legth increase"
   ]
  },
  {
   "cell_type": "markdown",
   "id": "e2c2eea0",
   "metadata": {},
   "source": [
    "First we increase the length of the context from 3 letters to 8 and show how the result improves"
   ]
  },
  {
   "cell_type": "code",
   "execution_count": 382,
   "id": "673541d5",
   "metadata": {},
   "outputs": [],
   "source": [
    "BLOCK_SIZE = 8\n",
    "GROUP_SIZE = 2"
   ]
  },
  {
   "cell_type": "code",
   "execution_count": 383,
   "id": "caae9c83",
   "metadata": {},
   "outputs": [],
   "source": [
    "train_percent = 0.8\n",
    "train_start_ix, train_end_ix = 0, int(train_percent * (len(words)))\n",
    "eval_start_ix, eval_end_ix = train_end_ix+1, train_end_ix + int((len(words) - train_end_ix)/2)\n",
    "test_start_ix, test_end_ix = eval_end_ix+1, len(words)-1\n",
    "# eval_percent, test_percent = 1-train_percent/2,  1-train_percent/2; \n",
    "\n",
    "random.shuffle(words)\n",
    "train_ds_dict = build_dataset(words=words[train_start_ix:train_end_ix], verbose=False, block_size=BLOCK_SIZE)\n",
    "train_X = train_ds_dict['X']; train_Y = train_ds_dict['Y']\n",
    "\n",
    "eval_ds_dict = build_dataset(words=words[eval_start_ix:eval_end_ix], verbose=False, block_size=BLOCK_SIZE)\n",
    "eval_X = eval_ds_dict['X']; eval_Y = eval_ds_dict['Y']\n",
    "\n",
    "test_ds_dict = build_dataset(words=words[test_start_ix:test_end_ix], verbose=False, block_size=BLOCK_SIZE)\n",
    "test_X = test_ds_dict['X']; test_Y = test_ds_dict['Y']"
   ]
  },
  {
   "cell_type": "code",
   "execution_count": 42,
   "id": "c3969aa5",
   "metadata": {},
   "outputs": [
    {
     "name": "stdout",
     "output_type": "stream",
     "text": [
      "22070\n"
     ]
    }
   ],
   "source": [
    "layers = [\n",
    "    Embedding(len(chars), EMBEDDING_SIZE),\n",
    "    Flatten(),\n",
    "    Linear(EMBEDDING_SIZE * BLOCK_SIZE, HIDDEN_LAYER_SIZE, bias=False), BatchNorm1d(HIDDEN_LAYER_SIZE), Tanh(),\n",
    "    Linear(          HIDDEN_LAYER_SIZE,        len(chars), bias=False)\n",
    "]\n",
    "\n",
    "model = Sequential(layers)\n",
    "\n",
    "with torch.no_grad():\n",
    "    layers[-1].weight *= 0.1 # last layer: make less confident\n",
    "\n",
    "parameters = model.parameters()\n",
    "print(sum(p.nelement() for p in parameters)) # number of parameters in total\n",
    "for p in parameters:\n",
    "    p.requires_grad = True# checking results with larger context\n",
    "max_steps = 200000\n",
    "batch_size = BATCH_SIZE\n",
    "lossi = []\n",
    "ud = []\n",
    "\n",
    "for i in range(max_steps):\n",
    "  \n",
    "    # minibatch construct\n",
    "    ix = torch.randint(0, train_X.shape[0], (batch_size,))\n",
    "    Xb, Yb = train_X[ix], train_Y[ix] # batch X,Y\n",
    "\n",
    "    # forward pass\n",
    "#     logits = forward_pass(Xb, layers)\n",
    "    logits = model(Xb)\n",
    "    nll_loss = F.cross_entropy(logits, Yb) # loss function\n",
    "\n",
    "    # backward pass\n",
    "    lr = .1 if i<=1e5 else 0.01\n",
    "    parameters = back_pass(parameters, nll_loss, lr=lr)\n",
    "    \n",
    "#     # track stats\n",
    "    if i % 10000 == 0: # print every once in a while\n",
    "        print(f'{i:7d}/{max_steps:7d}: {nll_loss.item():.4f}')\n",
    "    lossi.append(nll_loss.log10().item())\n",
    "    with torch.no_grad():\n",
    "        ud.append([((lr*p.grad).std() / p.data.std()).log10().item() for p in parameters])\n",
    "\n",
    "#     if i >= 5000:\n",
    "#         break # AFTER_DEBUG: would take out obviously to run full optimization"
   ]
  },
  {
   "cell_type": "code",
   "execution_count": 43,
   "id": "877bf0c4",
   "metadata": {},
   "outputs": [
    {
     "name": "stdout",
     "output_type": "stream",
     "text": [
      "      0/ 200000: 3.3102\n",
      "  10000/ 200000: 2.0538\n",
      "  20000/ 200000: 2.0249\n",
      "  30000/ 200000: 2.2013\n",
      "  40000/ 200000: 1.5770\n",
      "  50000/ 200000: 1.9699\n",
      "  60000/ 200000: 1.7364\n",
      "  70000/ 200000: 2.2824\n",
      "  80000/ 200000: 2.5678\n",
      "  90000/ 200000: 2.0673\n",
      " 100000/ 200000: 1.8027\n",
      " 110000/ 200000: 2.2835\n",
      " 120000/ 200000: 2.4028\n",
      " 130000/ 200000: 2.0468\n",
      " 140000/ 200000: 2.0384\n",
      " 150000/ 200000: 2.0227\n",
      " 160000/ 200000: 1.8412\n",
      " 170000/ 200000: 1.8774\n",
      " 180000/ 200000: 2.4253\n",
      " 190000/ 200000: 1.7204\n"
     ]
    }
   ],
   "source": [
    "# checking results with larger context\n",
    "max_steps = 200000\n",
    "batch_size = BATCH_SIZE\n",
    "lossi = []\n",
    "ud = []\n",
    "\n",
    "for i in range(max_steps):\n",
    "  \n",
    "    # minibatch construct\n",
    "    ix = torch.randint(0, train_X.shape[0], (batch_size,))\n",
    "    Xb, Yb = train_X[ix], train_Y[ix] # batch X,Y\n",
    "\n",
    "    # forward pass\n",
    "#     logits = forward_pass(Xb, layers)\n",
    "    logits = model(Xb)\n",
    "    nll_loss = F.cross_entropy(logits, Yb) # loss function\n",
    "\n",
    "    # backward pass\n",
    "    lr = .1 if i<=1e5 else 0.01\n",
    "    parameters = back_pass(parameters, nll_loss, lr=lr)\n",
    "    \n",
    "#     # track stats\n",
    "    if i % 10000 == 0: # print every once in a while\n",
    "        print(f'{i:7d}/{max_steps:7d}: {nll_loss.item():.4f}')\n",
    "    lossi.append(nll_loss.log10().item())\n",
    "    with torch.no_grad():\n",
    "        ud.append([((lr*p.grad).std() / p.data.std()).log10().item() for p in parameters])\n",
    "\n",
    "#     if i >= 5000:\n",
    "#         break # AFTER_DEBUG: would take out obviously to run full optimization"
   ]
  },
  {
   "cell_type": "code",
   "execution_count": 44,
   "id": "d63061d4",
   "metadata": {},
   "outputs": [
    {
     "data": {
      "text/plain": [
       "{'train': 1.9330434799194336,\n",
       " 'eval': 2.0206751823425293,\n",
       " 'test': 2.0360805988311768}"
      ]
     },
     "execution_count": 44,
     "metadata": {},
     "output_type": "execute_result"
    }
   ],
   "source": [
    "eval_model(model, train_X, train_Y, eval_X, eval_Y, test_X, test_Y)"
   ]
  },
  {
   "cell_type": "code",
   "execution_count": 45,
   "id": "14c7909a",
   "metadata": {},
   "outputs": [
    {
     "data": {
      "text/plain": [
       "['canisu',\n",
       " 'darrin',\n",
       " 'azairel',\n",
       " 'gillyngton',\n",
       " 'renaly',\n",
       " 'loice',\n",
       " 'hajmell',\n",
       " 'sadi',\n",
       " 'cayleigh',\n",
       " 'lamil',\n",
       " 'vanell',\n",
       " 'jaxaide',\n",
       " 'konaliz',\n",
       " 'goham',\n",
       " 'laylon',\n",
       " 'keymar',\n",
       " 'tyru',\n",
       " 'leanne',\n",
       " 'taiden',\n",
       " 'zachara',\n",
       " 'azlel',\n",
       " 'jamae',\n",
       " 'wille',\n",
       " 'brenley',\n",
       " 'kahau',\n",
       " 'anarioba',\n",
       " 'loviah',\n",
       " 'whil',\n",
       " 'giyon',\n",
       " 'carmin']"
      ]
     },
     "execution_count": 45,
     "metadata": {},
     "output_type": "execute_result"
    }
   ],
   "source": [
    "for layer in model.layers:\n",
    "    if isinstance(layer, BatchNorm1d):\n",
    "        layer.training = False\n",
    "\n",
    "generate_name_nn(30, layers)"
   ]
  },
  {
   "cell_type": "code",
   "execution_count": 28,
   "id": "a4a9c993",
   "metadata": {},
   "outputs": [
    {
     "data": {
      "text/plain": [
       "8"
      ]
     },
     "execution_count": 28,
     "metadata": {},
     "output_type": "execute_result"
    }
   ],
   "source": [
    "train_X.shape[1]"
   ]
  },
  {
   "cell_type": "markdown",
   "id": "173fda01",
   "metadata": {},
   "source": [
    "<a name='5-2'></a>\n",
    "## Toy example of matr multiplication with increased context length"
   ]
  },
  {
   "cell_type": "code",
   "execution_count": 424,
   "id": "23653db5",
   "metadata": {},
   "outputs": [
    {
     "data": {
      "text/plain": [
       "tensor([[ 0,  0,  0,  2, 15, 15, 11,  5],\n",
       "        [ 0,  0,  0,  5,  4, 23,  9, 14],\n",
       "        [ 0,  0,  0,  0,  0,  0,  0,  0],\n",
       "        [ 0,  0,  0, 10, 15, 18,  9,  5]])"
      ]
     },
     "execution_count": 424,
     "metadata": {},
     "output_type": "execute_result"
    }
   ],
   "source": [
    "ix = torch.randint(0, train_X.shape[0], (4,))\n",
    "Xb, Yb = train_X[ix], train_Y[ix]\n",
    "logits = model(Xb)\n",
    "# print(Xb.shape)\n",
    "Xb"
   ]
  },
  {
   "cell_type": "code",
   "execution_count": 94,
   "id": "9dec6cbe",
   "metadata": {},
   "outputs": [
    {
     "data": {
      "text/plain": [
       "<__main__.Embedding at 0x12ab33c10>"
      ]
     },
     "execution_count": 94,
     "metadata": {},
     "output_type": "execute_result"
    }
   ],
   "source": [
    "model.layers[0]"
   ]
  },
  {
   "cell_type": "code",
   "execution_count": 95,
   "id": "894e85e3",
   "metadata": {},
   "outputs": [
    {
     "data": {
      "text/plain": [
       "torch.Size([4, 8, 10])"
      ]
     },
     "execution_count": 95,
     "metadata": {},
     "output_type": "execute_result"
    }
   ],
   "source": [
    "\"\"\"\n",
    "In the embedding layer, the input 2d tensor turns into a 3d tensor, \n",
    "because each number that represents one character gets a new NN weight representation with a legth of 10.\n",
    "So the shape from previous layer is changed as follows: \n",
    "[n, B] -> [n, B, C]\n",
    "where n --number of examples, B -- block size, C -- embedding length\n",
    "\"\"\"\n",
    "model.layers[0].out.shape"
   ]
  },
  {
   "cell_type": "code",
   "execution_count": 55,
   "id": "9dcbc2ac",
   "metadata": {},
   "outputs": [
    {
     "data": {
      "text/plain": [
       "<__main__.Flatten at 0x15be93ac0>"
      ]
     },
     "execution_count": 55,
     "metadata": {},
     "output_type": "execute_result"
    }
   ],
   "source": [
    "model.layers[1]"
   ]
  },
  {
   "cell_type": "code",
   "execution_count": 53,
   "id": "6b5ba172",
   "metadata": {},
   "outputs": [
    {
     "data": {
      "text/plain": [
       "torch.Size([4, 80])"
      ]
     },
     "execution_count": 53,
     "metadata": {},
     "output_type": "execute_result"
    }
   ],
   "source": [
    "'''\n",
    "he shape from previous layer is changed as follows: \n",
    "[n, B, C] -> [n, B*C]\n",
    "where n --number of examples, B -- block size, C -- embedding length\n",
    "'''\n",
    "model.layers[1].out.shape"
   ]
  },
  {
   "cell_type": "code",
   "execution_count": 57,
   "id": "f8c79a3b",
   "metadata": {},
   "outputs": [
    {
     "data": {
      "text/plain": [
       "<__main__.Linear at 0x15be933a0>"
      ]
     },
     "execution_count": 57,
     "metadata": {},
     "output_type": "execute_result"
    }
   ],
   "source": [
    "model.layers[2]"
   ]
  },
  {
   "cell_type": "code",
   "execution_count": 54,
   "id": "8a1363b5",
   "metadata": {},
   "outputs": [
    {
     "data": {
      "text/plain": [
       "torch.Size([4, 200])"
      ]
     },
     "execution_count": 54,
     "metadata": {},
     "output_type": "execute_result"
    }
   ],
   "source": [
    "model.layers[2].out.shape"
   ]
  },
  {
   "cell_type": "code",
   "execution_count": 63,
   "id": "a08909de",
   "metadata": {},
   "outputs": [
    {
     "data": {
      "text/plain": [
       "torch.Size([4, 200])"
      ]
     },
     "execution_count": 63,
     "metadata": {},
     "output_type": "execute_result"
    }
   ],
   "source": [
    "#imitating mult operation in linear layer, no bias\n",
    "(torch.randn([4,80]) @ torch.randn([80, 200])).shape"
   ]
  },
  {
   "cell_type": "code",
   "execution_count": 64,
   "id": "9110868e",
   "metadata": {},
   "outputs": [
    {
     "data": {
      "text/plain": [
       "torch.Size([4, 5, 10, 200])"
      ]
     },
     "execution_count": 64,
     "metadata": {},
     "output_type": "execute_result"
    }
   ],
   "source": [
    "#we can get the same shape of mult product if there is more than two dimensions in the left tensor\n",
    "#dimensions before last in the left tesor are left unchanged\n",
    "(torch.randn([4, 5, 10, 80]) @ torch.randn([80, 200])).shape"
   ]
  },
  {
   "cell_type": "markdown",
   "id": "fbe458a6",
   "metadata": {},
   "source": [
    "<a name='5-3'></a>\n",
    "## Fusing each 2 consecutive elements"
   ]
  },
  {
   "cell_type": "code",
   "execution_count": 67,
   "id": "9739ec26",
   "metadata": {},
   "outputs": [
    {
     "data": {
      "text/plain": [
       "torch.Size([4, 2])"
      ]
     },
     "execution_count": 67,
     "metadata": {},
     "output_type": "execute_result"
    }
   ],
   "source": [
    "# we use it to introduce new \"batch\" dimension into the input tensor by pairing \n",
    "# each two consecutive numbers into pairs like so\n",
    "# 9, 2, 4, 1, 4, 2, 6, 3 -> (9, 2), (4, 1), (4, 2), (6, 3)\n",
    "torch.tensor(((9, 2), (4, 1), (4, 2), (6, 3))).shape"
   ]
  },
  {
   "cell_type": "code",
   "execution_count": 115,
   "id": "561fe7c5",
   "metadata": {},
   "outputs": [
    {
     "data": {
      "text/plain": [
       "tensor([[[9, 2],\n",
       "         [4, 1],\n",
       "         [4, 2],\n",
       "         [6, 3]],\n",
       "\n",
       "        [[9, 2],\n",
       "         [4, 1],\n",
       "         [4, 2],\n",
       "         [6, 3]],\n",
       "\n",
       "        [[9, 2],\n",
       "         [4, 1],\n",
       "         [4, 2],\n",
       "         [6, 3]],\n",
       "\n",
       "        [[9, 2],\n",
       "         [4, 1],\n",
       "         [4, 2],\n",
       "         [6, 3]]])"
      ]
     },
     "execution_count": 115,
     "metadata": {},
     "output_type": "execute_result"
    }
   ],
   "source": [
    "#so this is the shate or tensor we would expect to be in training now \n",
    "grouped_tuple = (\n",
    "    ((9, 2), (4, 1), (4, 2), (6, 3)), \n",
    "    ((9, 2), (4, 1), (4, 2), (6, 3)), \n",
    "    ((9, 2), (4, 1), (4, 2), (6, 3)),\n",
    "    ((9, 2), (4, 1), (4, 2), (6, 3))\n",
    ")\n",
    "\n",
    "grouped_tensor = torch.tensor(grouped_tuple)\n",
    "grouped_tensor"
   ]
  },
  {
   "cell_type": "code",
   "execution_count": 116,
   "id": "cce5d98a",
   "metadata": {},
   "outputs": [
    {
     "data": {
      "text/plain": [
       "torch.Size([4, 4, 2])"
      ]
     },
     "execution_count": 116,
     "metadata": {},
     "output_type": "execute_result"
    }
   ],
   "source": [
    "# the shape of this tensor then is the \n",
    "# [number of examples X number of groups X number of elements in each group ]\n",
    "grouped_tensor.shape"
   ]
  },
  {
   "cell_type": "markdown",
   "id": "e0eac488",
   "metadata": {},
   "source": [
    "So instead of initial shape of (4, 8) we get the shape of (4, 4, 2), that is\n",
    "(n, B) -> (n, B//T, T)\n",
    "where n - number of examples, B - block size and T - group size"
   ]
  },
  {
   "cell_type": "markdown",
   "id": "649ad33d",
   "metadata": {},
   "source": [
    "<a name='5-4'></a>\n",
    "## New Layer RegroupInput"
   ]
  },
  {
   "cell_type": "markdown",
   "id": "dbf33ca3",
   "metadata": {},
   "source": [
    "Now if previously the embedding layer received a tensor of the shape [n, B], \n",
    "now it should receive the shape (n, B//T, T). For this purpose a new RegroupInput layer is introduced."
   ]
  },
  {
   "cell_type": "code",
   "execution_count": 300,
   "id": "48173515",
   "metadata": {},
   "outputs": [
    {
     "name": "stdout",
     "output_type": "stream",
     "text": [
      "22070\n"
     ]
    }
   ],
   "source": [
    "layers = [\n",
    "    RegroupInput(2),\n",
    "    Embedding(len(chars), EMBEDDING_SIZE),\n",
    "    Flatten(),\n",
    "    Linear(EMBEDDING_SIZE * BLOCK_SIZE, HIDDEN_LAYER_SIZE, bias=False), BatchNorm1d(HIDDEN_LAYER_SIZE), Tanh(),\n",
    "    Linear(          HIDDEN_LAYER_SIZE,        len(chars), bias=False)\n",
    "]\n",
    "\n",
    "model = Sequential(layers)\n",
    "\n",
    "with torch.no_grad():\n",
    "    layers[-1].weight *= 0.1 # last layer: make less confident\n",
    "\n",
    "parameters = model.parameters()\n",
    "print(sum(p.nelement() for p in parameters)) # number of parameters in total\n",
    "for p in parameters:\n",
    "    p.requires_grad = True"
   ]
  },
  {
   "cell_type": "code",
   "execution_count": 301,
   "id": "61536045",
   "metadata": {},
   "outputs": [],
   "source": [
    "new_logits = model(Xb)"
   ]
  },
  {
   "cell_type": "code",
   "execution_count": 302,
   "id": "afa29a8f",
   "metadata": {},
   "outputs": [
    {
     "data": {
      "text/plain": [
       "<__main__.Regroup at 0x15c52b9a0>"
      ]
     },
     "execution_count": 302,
     "metadata": {},
     "output_type": "execute_result"
    }
   ],
   "source": [
    "model.layers[0]"
   ]
  },
  {
   "cell_type": "code",
   "execution_count": 303,
   "id": "c994e63e",
   "metadata": {},
   "outputs": [
    {
     "data": {
      "text/plain": [
       "torch.Size([4, 4, 2])"
      ]
     },
     "execution_count": 303,
     "metadata": {},
     "output_type": "execute_result"
    }
   ],
   "source": [
    "# The regroup layer works as expected changing the shape \n",
    "# [n, B] -> [n, B//T, T]\n",
    "# where n --number of examples, B -- block size, T -- group size\n",
    "model.layers[0].out.shape"
   ]
  },
  {
   "cell_type": "code",
   "execution_count": 304,
   "id": "3c89a926",
   "metadata": {},
   "outputs": [
    {
     "data": {
      "text/plain": [
       "<__main__.Embedding at 0x15c52ba00>"
      ]
     },
     "execution_count": 304,
     "metadata": {},
     "output_type": "execute_result"
    }
   ],
   "source": [
    "model.layers[1]"
   ]
  },
  {
   "cell_type": "code",
   "execution_count": 305,
   "id": "dd3d70fa",
   "metadata": {},
   "outputs": [
    {
     "data": {
      "text/plain": [
       "torch.Size([4, 4, 2, 10])"
      ]
     },
     "execution_count": 305,
     "metadata": {},
     "output_type": "execute_result"
    }
   ],
   "source": [
    "#The embedding layer works as expected\n",
    "# [n, B//T, T] -> [n, B//T, T, C]\n",
    "# where n --number of examples, B -- block size, C -- embedding length, T -- group size\n",
    "model.layers[1].out.shape"
   ]
  },
  {
   "cell_type": "code",
   "execution_count": 306,
   "id": "73cad309",
   "metadata": {},
   "outputs": [
    {
     "data": {
      "text/plain": [
       "torch.Size([4, 80])"
      ]
     },
     "execution_count": 306,
     "metadata": {},
     "output_type": "execute_result"
    }
   ],
   "source": [
    "# The flattern layer now changes the shape like so:\n",
    "# [n, B//T, T, C] -> [n, B//T*T*C]\n",
    "# It effectively flattens out our groups of 2. We want to keep those groups, \n",
    "# and only stack the 10 values of embedding for each group into 1 dimension\n",
    "# So, in case the input is 4 dimensional, it should change the shape like so:\n",
    "# [n, B//T, T, C] -> [n, B//T, C*T]\n",
    "# where n --number of examples, B -- block size, C -- embedding length, T -- group size\n",
    "model.layers[2].out.shape"
   ]
  },
  {
   "cell_type": "markdown",
   "id": "3175a989",
   "metadata": {},
   "source": [
    "<a name='5-5'></a>\n",
    "## New Layer FlattenConsecutive"
   ]
  },
  {
   "cell_type": "code",
   "execution_count": 308,
   "id": "fad1cf3c",
   "metadata": {},
   "outputs": [
    {
     "name": "stdout",
     "output_type": "stream",
     "text": [
      "10070\n"
     ]
    }
   ],
   "source": [
    "# Along with introduction of new layer FlattenConsecutive we also change the value of fan_in parameter for the\n",
    "# following Linear layer from EMBEDDING_SIZE * BLOCK_SIZE to GROUP_SIZE * EMBEDDING_SIZE\n",
    "\n",
    "layers = [\n",
    "    Regroup(2),\n",
    "    Embedding(len(chars), EMBEDDING_SIZE),\n",
    "    FlattenConsecutive(2),\n",
    "    Linear(GROUP_SIZE*EMBEDDING_SIZE, HIDDEN_LAYER_SIZE, bias=False), BatchNorm1d(HIDDEN_LAYER_SIZE), Tanh(),\n",
    "    Linear(          HIDDEN_LAYER_SIZE,        len(chars), bias=False)\n",
    "]\n",
    "\n",
    "model = Sequential(layers)\n",
    "\n",
    "with torch.no_grad():\n",
    "    layers[-1].weight *= 0.1 # last layer: make less confident\n",
    "\n",
    "parameters = model.parameters()\n",
    "print(sum(p.nelement() for p in parameters)) # number of parameters in total\n",
    "for p in parameters:\n",
    "    p.requires_grad = True"
   ]
  },
  {
   "cell_type": "code",
   "execution_count": 309,
   "id": "859e5ffb",
   "metadata": {},
   "outputs": [],
   "source": [
    "new_new_logits = model(Xb)"
   ]
  },
  {
   "cell_type": "code",
   "execution_count": 310,
   "id": "d8aa2083",
   "metadata": {},
   "outputs": [
    {
     "data": {
      "text/plain": [
       "<__main__.FlattenConsecutive at 0x15c244b80>"
      ]
     },
     "execution_count": 310,
     "metadata": {},
     "output_type": "execute_result"
    }
   ],
   "source": [
    "model.layers[2]"
   ]
  },
  {
   "cell_type": "code",
   "execution_count": 311,
   "id": "d54cc30d",
   "metadata": {},
   "outputs": [
    {
     "data": {
      "text/plain": [
       "torch.Size([4, 4, 20])"
      ]
     },
     "execution_count": 311,
     "metadata": {},
     "output_type": "execute_result"
    }
   ],
   "source": [
    "#The embedding layer works as expected changin shape as follows\n",
    "# [n, B//T, T, C] -> [n, B//T, T*C]\n",
    "# where n --number of examples, B -- block size, C -- embedding length, T -- group size\n",
    "model.layers[2].out.shape"
   ]
  },
  {
   "cell_type": "code",
   "execution_count": 157,
   "id": "3d6a46ed",
   "metadata": {},
   "outputs": [
    {
     "data": {
      "text/plain": [
       "<__main__.Linear at 0x1629827d0>"
      ]
     },
     "execution_count": 157,
     "metadata": {},
     "output_type": "execute_result"
    }
   ],
   "source": [
    "model.layers[3]"
   ]
  },
  {
   "cell_type": "code",
   "execution_count": 312,
   "id": "e3a40d99",
   "metadata": {},
   "outputs": [
    {
     "data": {
      "text/plain": [
       "torch.Size([4, 4, 200])"
      ]
     },
     "execution_count": 312,
     "metadata": {},
     "output_type": "execute_result"
    }
   ],
   "source": [
    "#The linear layer works as expected, only changing the value of the last dimension\n",
    "model.layers[3].out.shape"
   ]
  },
  {
   "cell_type": "code",
   "execution_count": 313,
   "id": "2208cd77",
   "metadata": {},
   "outputs": [
    {
     "data": {
      "text/plain": [
       "<__main__.BatchNorm1d at 0x15c4b4df0>"
      ]
     },
     "execution_count": 313,
     "metadata": {},
     "output_type": "execute_result"
    }
   ],
   "source": [
    "model.layers[4]"
   ]
  },
  {
   "cell_type": "markdown",
   "id": "dfd2e2c0",
   "metadata": {},
   "source": [
    "<a name='5-6'></a>\n",
    "## Correction of BatchNorm"
   ]
  },
  {
   "cell_type": "code",
   "execution_count": 314,
   "id": "8551fdbb",
   "metadata": {},
   "outputs": [
    {
     "data": {
      "text/plain": [
       "torch.Size([4, 4, 200])"
      ]
     },
     "execution_count": 314,
     "metadata": {},
     "output_type": "execute_result"
    }
   ],
   "source": [
    "# Even though the batch normalisation layer works fine, \n",
    "# but it only normalises values on first dimension, \n",
    "# whereas we have one extra dimensions which needs to be normalised as well\n",
    "model.layers[4].out.shape"
   ]
  },
  {
   "cell_type": "code",
   "execution_count": 316,
   "id": "f3716d56",
   "metadata": {},
   "outputs": [
    {
     "name": "stdout",
     "output_type": "stream",
     "text": [
      "10070\n"
     ]
    }
   ],
   "source": [
    "# We've corrected batchnorm \n",
    "layers = [\n",
    "    Regroup(GROUP_SIZE),\n",
    "    Embedding(len(chars), EMBEDDING_SIZE),\n",
    "    FlattenConsecutive( GROUP_SIZE),\n",
    "    Linear(GROUP_SIZE*EMBEDDING_SIZE, HIDDEN_LAYER_SIZE, bias=False), BatchNorm1d(HIDDEN_LAYER_SIZE), Tanh(),\n",
    "    Linear(HIDDEN_LAYER_SIZE,        len(chars), bias=False)\n",
    "]\n",
    "\n",
    "model = Sequential(layers)\n",
    "\n",
    "with torch.no_grad():\n",
    "    layers[-1].weight *= 0.1 # last layer: make less confident\n",
    "\n",
    "parameters = model.parameters()\n",
    "print(sum(p.nelement() for p in parameters)) # number of parameters in total\n",
    "for p in parameters:\n",
    "    p.requires_grad = True"
   ]
  },
  {
   "cell_type": "code",
   "execution_count": 317,
   "id": "6cf686ad",
   "metadata": {},
   "outputs": [],
   "source": [
    "model(Xb);"
   ]
  },
  {
   "cell_type": "code",
   "execution_count": 318,
   "id": "1e343d67",
   "metadata": {},
   "outputs": [
    {
     "name": "stdout",
     "output_type": "stream",
     "text": [
      "torch.Size([4, 4, 2]) <__main__.Regroup object at 0x15c2d6050>\n",
      "torch.Size([4, 4, 2, 10]) <__main__.Embedding object at 0x15c2d68c0>\n",
      "torch.Size([4, 4, 20]) <__main__.FlattenConsecutive object at 0x15c2d5c30>\n",
      "torch.Size([4, 4, 200]) <__main__.Linear object at 0x15c2d52a0>\n",
      "torch.Size([4, 4, 200]) <__main__.BatchNorm1d object at 0x15c247ca0>\n",
      "torch.Size([4, 4, 200]) <__main__.Tanh object at 0x15c245f90>\n",
      "torch.Size([4, 4, 27]) <__main__.Linear object at 0x15c2450c0>\n"
     ]
    }
   ],
   "source": [
    "for layer in model.layers:\n",
    "    print(layer.out.shape, layer)"
   ]
  },
  {
   "cell_type": "markdown",
   "id": "e7dc8a2e",
   "metadata": {},
   "source": [
    "<a name='5-7'></a>\n",
    "## New layer RegroupHidden, final arch"
   ]
  },
  {
   "cell_type": "code",
   "execution_count": 293,
   "id": "00ef45aa",
   "metadata": {},
   "outputs": [
    {
     "data": {
      "text/plain": [
       "torch.Size([32, 4, 27])"
      ]
     },
     "execution_count": 293,
     "metadata": {},
     "output_type": "execute_result"
    }
   ],
   "source": [
    "\"\"\"\n",
    "We see that the final layer output has 3 dimensions instead of expected 2. \n",
    "To correct this we could insert the regrouping layer that would group the 3 dimensional input into \n",
    "groups of GROUP_SIZE = 2 unless the horizontal (or second) dimension is 1, in which case it should be squeezed out.\n",
    "We need to do this operation twice to reach 2 dimensinal output.\n",
    "\n",
    "Additionaly, in order to achieve the target architecture, where at each layer grouping or 2 elements \n",
    "is passed into the next layer where new activation is applied to the grouping, \n",
    "we need to add out linear and activation layers as well.\n",
    "\"\"\""
   ]
  },
  {
   "cell_type": "code",
   "execution_count": 420,
   "id": "cbf2dd89",
   "metadata": {},
   "outputs": [
    {
     "name": "stdout",
     "output_type": "stream",
     "text": [
      "170870\n"
     ]
    }
   ],
   "source": [
    "# We've added layers and separated regrouping for input layer and hidden layers, \n",
    "# adjusted fan_in parameters for linear layers\n",
    "\n",
    "layers = [\n",
    "#     input formatting\n",
    "    RegroupInput(GROUP_SIZE),\n",
    "    Embedding(len(chars), EMBEDDING_SIZE),\n",
    "    FlattenLastDims( GROUP_SIZE),\n",
    "    \n",
    "#     1st layer group\n",
    "    Linear(GROUP_SIZE*EMBEDDING_SIZE, HIDDEN_LAYER_SIZE, bias=False), \n",
    "    BatchNorm1d(HIDDEN_LAYER_SIZE), Tanh(),\n",
    "    RegroupHidden(GROUP_SIZE),\n",
    "    \n",
    "#     2nd layer group\n",
    "    Linear(GROUP_SIZE*HIDDEN_LAYER_SIZE, HIDDEN_LAYER_SIZE, bias=False), \n",
    "    BatchNorm1d(HIDDEN_LAYER_SIZE), Tanh(),\n",
    "    RegroupHidden(GROUP_SIZE),\n",
    "    \n",
    "#     3rd layer group\n",
    "    Linear(GROUP_SIZE*HIDDEN_LAYER_SIZE, HIDDEN_LAYER_SIZE, bias=False), \n",
    "    BatchNorm1d(HIDDEN_LAYER_SIZE), Tanh(),\n",
    "\n",
    "#     output layer \n",
    "    Linear(HIDDEN_LAYER_SIZE,        len(chars), bias=False)\n",
    "]\n",
    "\n",
    "model = Sequential(layers)\n",
    "\n",
    "with torch.no_grad():\n",
    "    layers[-1].weight *= 0.1 # last layer: make less confident\n",
    "\n",
    "parameters = model.parameters()\n",
    "print(sum(p.nelement() for p in parameters)) # number of parameters in total\n",
    "for p in parameters:\n",
    "    p.requires_grad = True"
   ]
  },
  {
   "cell_type": "code",
   "execution_count": 421,
   "id": "6d851411",
   "metadata": {},
   "outputs": [],
   "source": [
    "model(Xb);"
   ]
  },
  {
   "cell_type": "code",
   "execution_count": 422,
   "id": "ea2fafb8",
   "metadata": {},
   "outputs": [
    {
     "data": {
      "text/plain": [
       "torch.Size([4, 8])"
      ]
     },
     "execution_count": 422,
     "metadata": {},
     "output_type": "execute_result"
    }
   ],
   "source": [
    "Xb.shape"
   ]
  },
  {
   "cell_type": "code",
   "execution_count": 423,
   "id": "9fd90309",
   "metadata": {},
   "outputs": [
    {
     "name": "stdout",
     "output_type": "stream",
     "text": [
      "torch.Size([4, 4, 2]) <__main__.RegroupInput object at 0x16a22c280>\n",
      "torch.Size([4, 4, 2, 10]) <__main__.Embedding object at 0x16a22d330>\n",
      "torch.Size([4, 4, 20]) <__main__.FlattenLastDims object at 0x16a22d4e0>\n",
      "torch.Size([4, 4, 200]) <__main__.Linear object at 0x16a22dc60>\n",
      "torch.Size([4, 4, 200]) <__main__.BatchNorm1d object at 0x15fda5ff0>\n",
      "torch.Size([4, 4, 200]) <__main__.Tanh object at 0x1633e9ab0>\n",
      "torch.Size([4, 2, 400]) <__main__.RegroupHidden object at 0x1633e80a0>\n",
      "torch.Size([4, 2, 200]) <__main__.Linear object at 0x16a22ee60>\n",
      "torch.Size([4, 2, 200]) <__main__.BatchNorm1d object at 0x1629801f0>\n",
      "torch.Size([4, 2, 200]) <__main__.Tanh object at 0x16a22dbd0>\n",
      "torch.Size([4, 400]) <__main__.RegroupHidden object at 0x16a22e3e0>\n",
      "torch.Size([4, 200]) <__main__.Linear object at 0x16a22ff70>\n",
      "torch.Size([4, 200]) <__main__.BatchNorm1d object at 0x16a22e020>\n",
      "torch.Size([4, 200]) <__main__.Tanh object at 0x16a22c0d0>\n",
      "torch.Size([4, 27]) <__main__.Linear object at 0x16a22eb30>\n"
     ]
    }
   ],
   "source": [
    "for layer in model.layers:\n",
    "    print(layer.out.shape, layer)"
   ]
  },
  {
   "cell_type": "markdown",
   "id": "5cc73496",
   "metadata": {},
   "source": [
    "<a name='6'></a>\n",
    "# Final training and demo"
   ]
  },
  {
   "cell_type": "code",
   "execution_count": 399,
   "id": "bfd9d6ef",
   "metadata": {},
   "outputs": [],
   "source": [
    "train_percent = 0.8\n",
    "train_start_ix, train_end_ix = 0, int(train_percent * (len(words)))\n",
    "eval_start_ix, eval_end_ix = train_end_ix+1, train_end_ix + int((len(words) - train_end_ix)/2)\n",
    "test_start_ix, test_end_ix = eval_end_ix+1, len(words)-1\n",
    "# eval_percent, test_percent = 1-train_percent/2,  1-train_percent/2; \n",
    "\n",
    "random.shuffle(words)\n",
    "train_ds_dict = build_dataset(words=words[train_start_ix:train_end_ix], verbose=False, block_size=BLOCK_SIZE)\n",
    "train_X = train_ds_dict['X']; train_Y = train_ds_dict['Y']\n",
    "\n",
    "eval_ds_dict = build_dataset(words=words[eval_start_ix:eval_end_ix], verbose=False, block_size=BLOCK_SIZE)\n",
    "eval_X = eval_ds_dict['X']; eval_Y = eval_ds_dict['Y']\n",
    "\n",
    "test_ds_dict = build_dataset(words=words[test_start_ix:test_end_ix], verbose=False, block_size=BLOCK_SIZE)\n",
    "test_X = test_ds_dict['X']; test_Y = test_ds_dict['Y']"
   ]
  },
  {
   "cell_type": "code",
   "execution_count": 400,
   "id": "7fc428e9",
   "metadata": {},
   "outputs": [
    {
     "name": "stdout",
     "output_type": "stream",
     "text": [
      "      0/ 300000: 3.2873\n",
      "  10000/ 300000: 2.1967\n",
      "  20000/ 300000: 2.3047\n",
      "  30000/ 300000: 2.0206\n",
      "  40000/ 300000: 2.1656\n",
      "  50000/ 300000: 2.5337\n",
      "  60000/ 300000: 2.1068\n",
      "  70000/ 300000: 1.7759\n",
      "  80000/ 300000: 1.7481\n",
      "  90000/ 300000: 2.1350\n",
      " 100000/ 300000: 1.6586\n",
      " 110000/ 300000: 1.8397\n",
      " 120000/ 300000: 1.7824\n",
      " 130000/ 300000: 1.4188\n",
      " 140000/ 300000: 1.7714\n",
      " 150000/ 300000: 1.6486\n",
      " 160000/ 300000: 1.5574\n",
      " 170000/ 300000: 2.1540\n",
      " 180000/ 300000: 1.9783\n",
      " 190000/ 300000: 1.6553\n",
      " 200000/ 300000: 1.5494\n",
      " 210000/ 300000: 1.9203\n",
      " 220000/ 300000: 1.5948\n",
      " 230000/ 300000: 1.8362\n",
      " 240000/ 300000: 2.0442\n",
      " 250000/ 300000: 2.1139\n",
      " 260000/ 300000: 1.7553\n",
      " 270000/ 300000: 1.9364\n",
      " 280000/ 300000: 1.2931\n",
      " 290000/ 300000: 1.6623\n"
     ]
    }
   ],
   "source": [
    "# checking results with larger context\n",
    "max_steps = 300000\n",
    "batch_size = BATCH_SIZE\n",
    "lossi = []\n",
    "ud = []\n",
    "\n",
    "for i in range(max_steps):\n",
    "  \n",
    "    # minibatch construct\n",
    "    ix = torch.randint(0, train_X.shape[0], (batch_size,))\n",
    "    Xb, Yb = train_X[ix], train_Y[ix] # batch X,Y\n",
    "\n",
    "    # forward pass\n",
    "#     logits = forward_pass(Xb, layers)\n",
    "    logits = model(Xb)\n",
    "    nll_loss = F.cross_entropy(logits, Yb) # loss function\n",
    "\n",
    "#     # backward pass\n",
    "#     lr = .1 if i<=1e5 else 0.01\n",
    "    if i < 1e5:\n",
    "        lr = .1\n",
    "    elif 1e5 <= i <= 2e5: \n",
    "        lr = .01\n",
    "    elif i > 2e5: \n",
    "        lr = .005\n",
    "    parameters = back_pass(parameters, nll_loss, lr=lr)\n",
    "    \n",
    "#     # track stats\n",
    "    if i % 10000 == 0: # print every once in a while\n",
    "        print(f'{i:7d}/{max_steps:7d}: {nll_loss.item():.4f}')\n",
    "    lossi.append(nll_loss.log10().item())\n",
    "    with torch.no_grad():\n",
    "        ud.append([((lr*p.grad).std() / p.data.std()).log10().item() for p in parameters])\n",
    "    \n",
    "#     if i >= 5000:\n",
    "#         break # AFTER_DEBUG: would take out obviously to run full optimization"
   ]
  },
  {
   "cell_type": "code",
   "execution_count": 401,
   "id": "617b4a70",
   "metadata": {},
   "outputs": [
    {
     "data": {
      "text/plain": [
       "[<matplotlib.lines.Line2D at 0x15fd41b10>]"
      ]
     },
     "execution_count": 401,
     "metadata": {},
     "output_type": "execute_result"
    },
    {
     "data": {
      "image/png": "[encoded data removed]",
      "text/plain": [
       "<Figure size 640x480 with 1 Axes>"
      ]
     },
     "metadata": {},
     "output_type": "display_data"
    }
   ],
   "source": [
    "plt.plot(torch.tensor(lossi).view((-1, 1000)).mean(1))"
   ]
  },
  {
   "cell_type": "code",
   "execution_count": 402,
   "id": "d84fe2ab",
   "metadata": {},
   "outputs": [
    {
     "data": {
      "text/plain": [
       "{'train': 1.7379601001739502,\n",
       " 'eval': 2.0182316303253174,\n",
       " 'test': 1.9910467863082886}"
      ]
     },
     "execution_count": 402,
     "metadata": {},
     "output_type": "execute_result"
    }
   ],
   "source": [
    "eval_model(model, train_X, train_Y, eval_X, eval_Y, test_X, test_Y)"
   ]
  },
  {
   "cell_type": "code",
   "execution_count": 403,
   "id": "fb0cc9d5",
   "metadata": {},
   "outputs": [
    {
     "data": {
      "text/plain": [
       "['ramyn',\n",
       " 'bexton',\n",
       " 'abrianna',\n",
       " 'kaylan',\n",
       " 'adalni',\n",
       " 'ar',\n",
       " 'jazaye',\n",
       " 'lilya',\n",
       " 'quina',\n",
       " 'aze',\n",
       " 'maryce',\n",
       " 'adif',\n",
       " 'carsyn',\n",
       " 'denia',\n",
       " 'martin',\n",
       " 'deannes',\n",
       " 'sedie',\n",
       " 'cristiano',\n",
       " 'amaurie',\n",
       " 'neida',\n",
       " 'bryser',\n",
       " 'tamari',\n",
       " 'izzy',\n",
       " 'zymariah',\n",
       " 'anade',\n",
       " 'emona',\n",
       " 'nouphija',\n",
       " 'philippeus',\n",
       " 'hageng',\n",
       " 'aradiada']"
      ]
     },
     "execution_count": 403,
     "metadata": {},
     "output_type": "execute_result"
    }
   ],
   "source": [
    "for layer in model.layers:\n",
    "    if isinstance(layer, BatchNorm1d):\n",
    "        layer.training = False\n",
    "\n",
    "generate_name_nn(30, layers)"
   ]
  },
  {
   "cell_type": "code",
   "execution_count": null,
   "id": "f484d366",
   "metadata": {},
   "outputs": [],
   "source": []
  }
 ],
 "metadata": {
  "kernelspec": {
   "display_name": "practical_rl_course",
   "language": "python",
   "name": "practical_rl_course"
  },
  "language_info": {
   "codemirror_mode": {
    "name": "ipython",
    "version": 3
   },
   "file_extension": ".py",
   "mimetype": "text/x-python",
   "name": "python",
   "nbconvert_exporter": "python",
   "pygments_lexer": "ipython3",
   "version": "3.10.8"
  }
 },
 "nbformat": 4,
 "nbformat_minor": 5
}
